{
 "cells": [
  {
   "cell_type": "code",
   "execution_count": 116,
   "metadata": {},
   "outputs": [],
   "source": [
    "#!/usr/bin/env python\n",
    "import glob\n",
    "import os\n",
    "import re\n",
    "import pandas as pd"
   ]
  },
  {
   "cell_type": "code",
   "execution_count": 117,
   "metadata": {},
   "outputs": [],
   "source": [
    "# define functions:\n",
    "\n",
    "# Function to calculate the mean from a string containing space separated numbers.\n",
    "def calculate_mean(numbers_str):\n",
    "    numbers = [float(x) for x in numbers_str.split()]\n",
    "    mean = sum(numbers) / len(numbers)\n",
    "    return mean\n",
    "\n",
    "# Function to check if a value can be converted to a float.\n",
    "def is_float(string: any) -> bool:\n",
    "    if string is None:\n",
    "        return False\n",
    "    try:\n",
    "        float(string)\n",
    "        return True\n",
    "    except ValueError:\n",
    "        return False\n",
    "\n",
    "# Function to extract all properties from an sdf file. (takes regex paths as input) \n",
    "def extract_properties_from_sdf(pathname):\n",
    "    if not os.path.isfile(pathname):\n",
    "        print(\"ERROR: file '%s' is missing!\" % pathname)\n",
    "        quit(1)\n",
    "    pattern = re.compile(\"^> *<.*>$\")\n",
    "    all_values = {}\n",
    "    with open(pathname, \"r\") as input_file:\n",
    "        lines = input_file.readlines()\n",
    "        for index, line in enumerate(lines):\n",
    "            if pattern.match(line):\n",
    "                property_name = re.split('<|>', line)[2]\n",
    "                value_str = lines[index + 1].rstrip()\n",
    "                if is_float(value_str):\n",
    "                    all_values[property_name] = float(value_str)\n",
    "                else:\n",
    "                    all_values[property_name] = value_str\n",
    "    return all_values"
   ]
  },
  {
   "cell_type": "code",
   "execution_count": 118,
   "metadata": {},
   "outputs": [],
   "source": [
    "# Collect paths to all the sdf files of test set 1 in 'pathnames' variable.\n",
    "pathnames = []\n",
    "regex = str(os.getcwd()+\"/../../test/test_set_1/*/*_out.sdf\").strip('\\'')\n",
    "pathnames.extend(sorted(glob.glob(regex)))\n"
   ]
  },
  {
   "cell_type": "code",
   "execution_count": 119,
   "metadata": {},
   "outputs": [
    {
     "name": "stdout",
     "output_type": "stream",
     "text": [
      "Total number of Candidates = 30\n"
     ]
    }
   ],
   "source": [
    "# store paths to catalyst groups in separate variables\n",
    "H0_paths = []; HI_paths = []; HIIprime_paths = []; HII_paths = []; HC1Ph_paths = []\n",
    "for pathname in pathnames:\n",
    "    if \"H0_\" in pathname:\n",
    "        H0_paths.append(pathname)\n",
    "    if \"HI_\" in pathname:\n",
    "        HI_paths.append(pathname)    \n",
    "    if \"HIIprime_\" in pathname:\n",
    "        HIIprime_paths.append(pathname)\n",
    "    if \"HII_\" in pathname:\n",
    "        HII_paths.append(pathname)\n",
    "    if \"HC1Ph_\" in pathname:\n",
    "        HC1Ph_paths.append(pathname)\n",
    "        \n",
    "print(\"Total number of Candidates = \" + str(len(H0_paths + HI_paths + HIIprime_paths + HII_paths + HC1Ph_paths)))"
   ]
  },
  {
   "cell_type": "code",
   "execution_count": 120,
   "metadata": {},
   "outputs": [
    {
     "name": "stdout",
     "output_type": "stream",
     "text": [
      "Fitness: 0.0 (St.dev: 0.0)\n",
      "candidate: H0\n",
      "D1: 0.0\n",
      "D2: 1.47\n",
      "D3: 2.66\n",
      "w1: 1.0\n",
      "w2: 0.0\n",
      "w3: 0.04\n",
      "w4: 1.0\n",
      "Fitness: 3.45 (St.dev: 1.71)\n",
      "candidate: HI\n",
      "D1: 0.0\n",
      "D2: 5.17\n",
      "D3: 0.21\n",
      "w1: 1.0\n",
      "w2: 0.69\n",
      "w3: 0.9\n",
      "w4: 1.0\n",
      "Fitness: 13.66 (St.dev: 0.01)\n",
      "candidate: HIIprime\n",
      "D1: 0.23\n",
      "D2: 13.05\n",
      "D3: 0.38\n",
      "w1: 1.0\n",
      "w2: 1.0\n",
      "w3: 1.0\n",
      "w4: 1.0\n",
      "Fitness: 14.95 (St.dev: 0.02)\n",
      "candidate: HII\n",
      "D1: 1.0\n",
      "D2: 13.95\n",
      "D3: 0.0\n",
      "w1: 1.0\n",
      "w2: 1.0\n",
      "w3: 1.0\n",
      "w4: 1.0\n",
      "Fitness: 19.91 (St.dev: 6.86)\n",
      "candidate: HC1Ph\n",
      "D1: 5.87\n",
      "D2: 14.54\n",
      "D3: 0.0\n",
      "w1: 0.98\n",
      "w2: 1.0\n",
      "w3: 1.0\n",
      "w4: 1.0\n"
     ]
    }
   ],
   "source": [
    "# Now we calculate the mean of selected sdf properties within each catalyst group.\n",
    "# The mean values are then stored in separate arrays for further use bellow.\n",
    "# Finally, we print a simple overview of the fitness, descriptors and weights.\n",
    "\n",
    "# define lists for catalyst groups(paths) and names.\n",
    "catalyst_groups = [H0_paths, HI_paths, HIIprime_paths, HII_paths, HC1Ph_paths]\n",
    "catalyst_name = ['H0', 'HI', 'HIIprime', 'HII', 'HC1Ph']\n",
    "\n",
    "# define lists for desired properties (averages).\n",
    "fitnesses = []; d1s = []; d2s = []; d3s = []; w1s = []; w2s = []; w3s = []; w4s = []\n",
    "A_energies = []; E_energies = []; F_energies = []; C_energies = []; D_energies = []; X_energies = []; Z_energies = []; L_energies = []\n",
    "\n",
    "# define lists for desired properties (standard deviations).\n",
    "fitnessStds = []; d1Stds = []; d2Stds = []; d3Stds = []; w1Stds = []; w2Stds = []; w3Stds = []; w4Stds = []\n",
    "\n",
    "i = 0\n",
    "\n",
    "# Loop over each catalyst group to extract mean values and standardard deviations. \n",
    "for group in catalyst_groups:\n",
    "    rows = []\n",
    "    for candidate in group:\n",
    "        rows.append(extract_properties_from_sdf(candidate))\n",
    "        \n",
    "    # Definte pandas datafram with all extracted properties, from all candidates.\n",
    "    df = pd.DataFrame(rows)\n",
    "\n",
    "    # colelct mean values from descriptors and weights.\n",
    "    fitness = str(df.agg({'FITNESS': ['mean']})).split()[2]; fitnesses.append(fitness)\n",
    "    fitnessStd = str(df.agg({'FITNESS': ['std']})).split()[2]\n",
    "    print('Fitness: ' + str(round(float(fitness), 2)) + ' (St.dev: ' + str(round(float(fitnessStd), 2)) + ')')\n",
    "    d1 = str(df.agg({'DESCRIPTOR_1': ['mean']})).split()[2]; d1s.append(d1)\n",
    "    d2 = str(df.agg({'DESCRIPTOR_2': ['mean']})).split()[2]; d2s.append(d2)\n",
    "    d3 = str(df.agg({'DESCRIPTOR_3': ['mean']})).split()[2]; d3s.append(d3)\n",
    "    w1 = str(df.agg({'WEIGHT_1': ['mean']})).split()[2]; w1s.append(w1)\n",
    "    w2 = str(df.agg({'WEIGHT_2': ['mean']})).split()[2]; w2s.append(w2)\n",
    "    w3 = str(df.agg({'WEIGHT_3': ['mean']})).split()[2]; w3s.append(w3)\n",
    "    w4 = str(df.agg({'WEIGHT_4': ['mean']})).split()[2]; w4s.append(w4)\n",
    "\n",
    "    #collect standard deviations from descriptors and weights.\n",
    "    d1Stds.append(float(str(df.agg({'DESCRIPTOR_1': ['std']})).split()[2]))\n",
    "    d2Stds.append(float(str(df.agg({'DESCRIPTOR_2': ['std']})).split()[2]))\n",
    "    d3Stds.append(float(str(df.agg({'DESCRIPTOR_3': ['std']})).split()[2]))\n",
    "    w1Stds.append(float(str(df.agg({'WEIGHT_1': ['std']})).split()[2]))\n",
    "    w2Stds.append(float(str(df.agg({'WEIGHT_2': ['std']})).split()[2]))\n",
    "    w3Stds.append(float(str(df.agg({'WEIGHT_3': ['std']})).split()[2]))\n",
    "    w4Stds.append(float(str(df.agg({'WEIGHT_4': ['std']})).split()[2]))\n",
    "\n",
    "    #collect mean values from potential energies.\n",
    "    A_energies.append(float(str(df.agg({'freeEnergyA': ['mean']})).split()[2]))\n",
    "    E_energies.append(float(str(df.agg({'freeEnergyE': ['mean']})).split()[2]))\n",
    "    F_energies.append(float(str(df.agg({'freeEnergyF': ['mean']})).split()[2]))\n",
    "    C_energies.append(float(str(df.agg({'freeEnergyC': ['mean']})).split()[2]))\n",
    "    D_energies.append(float(str(df.agg({'freeEnergyD': ['mean']})).split()[2]))\n",
    "    X_energies.append(float(str(df.agg({'freeEnergyX': ['mean']})).split()[2]))\n",
    "    Z_energies.append(float(str(df.agg({'freeEnergyZ': ['mean']})).split()[2]))\n",
    "    L_energies.append(float(str(df.agg({'freeEnergyL': ['mean']})).split()[2]))\n",
    "\n",
    "    # print overview.\n",
    "    print(f\"candidate: {catalyst_name[i]}\")\n",
    "    print('D1: ' + str(round(float(d1), 2)))\n",
    "    print('D2: ' + str(round(float(d2), 2)))\n",
    "    print('D3: ' + str(round(float(d3), 2)))\n",
    "    print('w1: ' + str(round(float(w1), 2)))\n",
    "    print('w2: ' + str(round(float(w2), 2)))\n",
    "    print('w3: ' + str(round(float(w3), 2)))\n",
    "    print('w4: ' + str(round(float(w4), 2)))\n",
    "\n",
    "    i = i + 1\n",
    "\n"
   ]
  },
  {
   "cell_type": "code",
   "execution_count": 121,
   "metadata": {},
   "outputs": [
    {
     "name": "stdout",
     "output_type": "stream",
     "text": [
      "0\n",
      "1\n",
      "1\n",
      "1\n",
      "1\n",
      "1\n",
      "1\n",
      "1\n",
      "1\n",
      "1\n",
      "1\n",
      "1\n",
      "1\n",
      "1\n",
      "1\n",
      "2\n",
      "2\n",
      "2\n",
      "2\n",
      "2\n",
      "2\n",
      "2\n",
      "2\n",
      "3\n",
      "3\n",
      "3\n",
      "3\n",
      "3\n",
      "3\n",
      "3\n",
      "3\n",
      "3\n",
      "3\n",
      "3\n",
      "3\n"
     ]
    }
   ],
   "source": [
    "# Extract energies from HQF.\n",
    "HQF_path = []\n",
    "HQF_name = ['H0HQF', 'HIHQF', 'HIIprimeHQF', 'HIIHQF', 'HC1PhHQF']\n",
    "i = 0\n",
    "for pathname in pathnames:\n",
    "    print(i)\n",
    "    if HQF_name[i] in pathname:\n",
    "        HQF_path.append(pathname)\n",
    "        i = i + 1\n"
   ]
  },
  {
   "cell_type": "code",
   "execution_count": 122,
   "metadata": {},
   "outputs": [
    {
     "name": "stdout",
     "output_type": "stream",
     "text": [
      "HIIHQF\n"
     ]
    },
    {
     "ename": "IndexError",
     "evalue": "list index out of range",
     "output_type": "error",
     "traceback": [
      "\u001b[0;31m---------------------------------------------------------------------------\u001b[0m",
      "\u001b[0;31mIndexError\u001b[0m                                Traceback (most recent call last)",
      "Cell \u001b[0;32mIn[122], line 2\u001b[0m\n\u001b[1;32m      1\u001b[0m \u001b[38;5;28mprint\u001b[39m(HQF_name[\u001b[38;5;241m3\u001b[39m])\n\u001b[0;32m----> 2\u001b[0m \u001b[38;5;28mprint\u001b[39m(HQF_path[\u001b[38;5;241m3\u001b[39m])\n",
      "\u001b[0;31mIndexError\u001b[0m: list index out of range"
     ]
    }
   ],
   "source": [
    "print(HQF_name[3])\n",
    "print(HQF_path[3])\n"
   ]
  },
  {
   "cell_type": "code",
   "execution_count": null,
   "metadata": {},
   "outputs": [],
   "source": []
  }
 ],
 "metadata": {
  "kernelspec": {
   "display_name": "Python 3 (ipykernel)",
   "language": "python",
   "name": "python3"
  },
  "language_info": {
   "codemirror_mode": {
    "name": "ipython",
    "version": 3
   },
   "file_extension": ".py",
   "mimetype": "text/x-python",
   "name": "python",
   "nbconvert_exporter": "python",
   "pygments_lexer": "ipython3",
   "version": "3.12.3"
  }
 },
 "nbformat": 4,
 "nbformat_minor": 4
}
