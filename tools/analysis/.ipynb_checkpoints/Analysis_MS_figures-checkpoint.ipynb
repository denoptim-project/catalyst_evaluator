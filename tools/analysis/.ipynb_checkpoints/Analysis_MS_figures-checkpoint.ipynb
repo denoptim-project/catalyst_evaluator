{
 "cells": [
  {
   "cell_type": "code",
   "execution_count": 151,
   "metadata": {},
   "outputs": [],
   "source": [
    "#!/usr/bin/env python\n",
    "import glob\n",
    "import os\n",
    "import re\n",
    "import pandas as pd"
   ]
  },
  {
   "cell_type": "code",
   "execution_count": 152,
   "metadata": {},
   "outputs": [],
   "source": [
    "def calculate_mean(numbers_str):\n",
    "    numbers = [float(x) for x in numbers_str.split()]\n",
    "    mean = sum(numbers) / len(numbers)\n",
    "    return mean\n",
    "\n",
    "\n",
    "def is_float(string: any) -> bool:\n",
    "    if string is None:\n",
    "        return False\n",
    "    try:\n",
    "        float(string)\n",
    "        return True\n",
    "    except ValueError:\n",
    "        return False\n",
    "\n",
    "\n",
    "def extract_properties_from_sdf(pathname):\n",
    "    if not os.path.isfile(pathname):\n",
    "        print(\"ERROR: file '%s' is missing!\" % pathname)\n",
    "        quit(1)\n",
    "    pattern = re.compile(\"^> *<.*>$\")\n",
    "    all_values = {}\n",
    "    with open(pathname, \"r\") as input_file:\n",
    "        lines = input_file.readlines()\n",
    "        for index, line in enumerate(lines):\n",
    "            if pattern.match(line):\n",
    "                property_name = re.split('<|>', line)[2]\n",
    "                value_str = lines[index + 1].rstrip()\n",
    "                if is_float(value_str):\n",
    "                    all_values[property_name] = float(value_str)\n",
    "                else:\n",
    "                    all_values[property_name] = value_str\n",
    "        #print(f\"Parsed {len(all_values)} properties from {pathname}\")\n",
    "    return all_values"
   ]
  },
  {
   "cell_type": "code",
   "execution_count": 153,
   "metadata": {},
   "outputs": [],
   "source": [
    "pathnames = []\n",
    "regex = str(options.file_finding_regex).strip('\\'')  \n",
    "regex = str(os.getcwd()+\"/../../test/test_set_1/*/*_out.sdf\").strip('\\'')\n",
    "pathnames.extend(sorted(glob.glob(regex)))\n"
   ]
  },
  {
   "cell_type": "code",
   "execution_count": 154,
   "metadata": {},
   "outputs": [
    {
     "name": "stdout",
     "output_type": "stream",
     "text": [
      "Total number of Candidates = 30\n"
     ]
    }
   ],
   "source": [
    "H0_paths = []\n",
    "HI_paths = []\n",
    "HIIprime_paths = []\n",
    "HII_paths = []\n",
    "HC1Ph_paths = []\n",
    "for pathname in pathnames:\n",
    "    if \"H0_\" in pathname:\n",
    "        H0_paths.append(pathname)\n",
    "    if \"HI_\" in pathname:\n",
    "        HI_paths.append(pathname)    \n",
    "    if \"HIIprime_\" in pathname:\n",
    "        HIIprime_paths.append(pathname)\n",
    "    if \"HII_\" in pathname:\n",
    "        HII_paths.append(pathname)\n",
    "    if \"HC1Ph_\" in pathname:\n",
    "        HC1Ph_paths.append(pathname)\n",
    "#print(H0_paths + HI_paths + HIIprime_paths + HII_paths + HC1Ph_paths)\n",
    "print(\"Total number of Candidates = \" + str(len(H0_paths + HI_paths + HIIprime_paths + HII_paths + HC1Ph_paths)))"
   ]
  },
  {
   "cell_type": "code",
   "execution_count": 155,
   "metadata": {},
   "outputs": [
    {
     "name": "stdout",
     "output_type": "stream",
     "text": [
      "0.0\n",
      "0.0\n",
      "0.23\n",
      "1.0\n",
      "5.87\n"
     ]
    }
   ],
   "source": [
    "catalyst_groups = [H0_paths, HI_paths, HIIprime_paths, HII_paths, HC1Ph_paths]\n",
    "catalyst_names = ['H0_', 'HI_', 'HIIprim_', 'HII\\_', 'HC1Ph_']\n",
    "\n",
    "for group in catalyst_groups:\n",
    "    rows = []\n",
    "    for candidate in group:\n",
    "        rows.append(extract_properties_from_sdf(candidate))\n",
    "    \n",
    "    df = pd.DataFrame(rows)\n",
    "\n",
    "    \n",
    "    descriptor1 = str(df.agg({'DESCRIPTOR_1': ['mean']})).split()\n",
    "    print(round(float(descriptor1[2]), 2))\n",
    "    descriptor2 = str(df.agg({'DESCRIPTOR_2': ['mean']})).split()\n",
    "    print(round(float(descriptor2[2]), 2))\n",
    "    descriptor3 = str(df.agg({'DESCRIPTOR_3': ['mean']})).split()\n",
    "    print(round(float(descriptor3[2]), 2))\n",
    "    weight = str(df.agg({'DESCRIPTOR_1': ['mean']})).split()\n",
    "    print(round(float(descriptor1[2]), 2))\n",
    "\n"
   ]
  },
  {
   "cell_type": "code",
   "execution_count": 124,
   "metadata": {},
   "outputs": [
    {
     "name": "stdout",
     "output_type": "stream",
     "text": [
      "2.65844708\n"
     ]
    }
   ],
   "source": [
    "\n"
   ]
  },
  {
   "cell_type": "code",
   "execution_count": null,
   "metadata": {},
   "outputs": [],
   "source": []
  },
  {
   "cell_type": "code",
   "execution_count": null,
   "metadata": {},
   "outputs": [],
   "source": []
  }
 ],
 "metadata": {
  "kernelspec": {
   "display_name": "Python 3 (ipykernel)",
   "language": "python",
   "name": "python3"
  },
  "language_info": {
   "codemirror_mode": {
    "name": "ipython",
    "version": 3
   },
   "file_extension": ".py",
   "mimetype": "text/x-python",
   "name": "python",
   "nbconvert_exporter": "python",
   "pygments_lexer": "ipython3",
   "version": "3.11.9"
  }
 },
 "nbformat": 4,
 "nbformat_minor": 4
}
